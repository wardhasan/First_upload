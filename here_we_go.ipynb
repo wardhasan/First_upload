{
 "cells": [
  {
   "cell_type": "code",
   "execution_count": 5,
   "metadata": {},
   "outputs": [
    {
     "name": "stdout",
     "output_type": "stream",
     "text": [
      "my name is : ward hasan & my ID is : 118138\n",
      "-------------------------------------------\n",
      "You start by knowing the game's rule first, then you should start learning how to beat everyone that plays it\n"
     ]
    }
   ],
   "source": [
    "name = 'ward hasan'\n",
    "ID = 118138\n",
    "print('my name is : {} & my ID is : {}'.format(name,ID))\n",
    "print('-------------------------------------------')\n",
    "print(\"You start by knowing the game's rule first, then you should start learning how to beat everyone that plays it\")"
   ]
  },
  {
   "cell_type": "code",
   "execution_count": null,
   "metadata": {},
   "outputs": [],
   "source": []
  }
 ],
 "metadata": {
  "kernelspec": {
   "display_name": "Python 3",
   "language": "python",
   "name": "python3"
  },
  "language_info": {
   "codemirror_mode": {
    "name": "ipython",
    "version": 3
   },
   "file_extension": ".py",
   "mimetype": "text/x-python",
   "name": "python",
   "nbconvert_exporter": "python",
   "pygments_lexer": "ipython3",
   "version": "3.6.5"
  }
 },
 "nbformat": 4,
 "nbformat_minor": 2
}
